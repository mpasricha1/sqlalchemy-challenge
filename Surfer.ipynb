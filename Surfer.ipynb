{
 "cells": [
  {
   "cell_type": "code",
   "execution_count": 9,
   "metadata": {},
   "outputs": [],
   "source": [
    "# Define the Surfer Class\n",
    "import pandas as pd\n",
    "class Surfer(): \n",
    "    \n",
    "    def __init__(self, name, hometown, rank):\n",
    "        self.name = name\n",
    "        self.hometown = hometown \n",
    "        self.rank = rank\n",
    "        \n"
   ]
  },
  {
   "cell_type": "code",
   "execution_count": null,
   "metadata": {},
   "outputs": [],
   "source": [
    "# Create an instance of the Surfer Class\n",
    "surferList = []\n",
    "surfer = Surfer(\"Mark\", \"JC\", 1)\n",
    "surferList.append(surfer)\n"
   ]
  },
  {
   "cell_type": "code",
   "execution_count": 3,
   "metadata": {},
   "outputs": [
    {
     "name": "stdout",
     "output_type": "stream",
     "text": [
      "Name: Mark\n",
      "Hometown: JC \n",
      "Rank:1\n"
     ]
    }
   ],
   "source": [
    "# Print the object's attributes\n",
    "print(f\"Name: {surfer.name}\\nHometown: {surfer.hometown} \\nRank:{surfer.rank}\")\n"
   ]
  },
  {
   "cell_type": "code",
   "execution_count": 7,
   "metadata": {},
   "outputs": [
    {
     "name": "stdout",
     "output_type": "stream",
     "text": [
      "yes to add more surfers: yes\n",
      "Name: Billy \n",
      "Hometown: JC\n",
      "Rank: 2\n",
      "Add another Surfer: yes\n",
      "Name: Bob\n",
      "Hometown: Jc\n",
      "Rank: 3\n",
      "Add another Surfer: no\n"
     ]
    }
   ],
   "source": [
    "# ----BONUS----\n",
    "# Variable to keep track of changes to while loop\n",
    "choice = input(\"yes to add more surfers: \")\n",
    "\n",
    "while choice.lower() == 'y' or choice.lower() == 'yes': \n",
    "    Name = input(\"Name: \")\n",
    "    Hometown = input(\"Hometown: \")\n",
    "    Rank = input(\"Rank: \")\n",
    "    surfer = Surfer(Name, Hometown,Rank)\n",
    "    surferList.append(surfer)\n",
    "    \n",
    "    choice = input(\"Add another Surfer: \") \n",
    "    if choice.lower() == 'n' or choice.lower() == 'no':\n",
    "        break\n",
    "        "
   ]
  },
  {
   "cell_type": "code",
   "execution_count": 12,
   "metadata": {},
   "outputs": [
    {
     "name": "stdout",
     "output_type": "stream",
     "text": [
      "Name: Mark\n",
      "Hometown: JC \n",
      "Rank:1\n",
      "\n",
      "Name: Billy\n",
      "Hometown: JC \n",
      "Rank:3\n",
      "\n",
      "Name: Billy \n",
      "Hometown: JC \n",
      "Rank:2\n",
      "\n",
      "Name: Bob\n",
      "Hometown: Jc \n",
      "Rank:3\n",
      "\n"
     ]
    }
   ],
   "source": [
    "for surfer in surferList: \n",
    "    print(f\"Name: {surfer.name}\\nHometown: {surfer.hometown} \\nRank:{surfer.rank}\")\n",
    "    print('')"
   ]
  },
  {
   "cell_type": "code",
   "execution_count": null,
   "metadata": {},
   "outputs": [],
   "source": []
  }
 ],
 "metadata": {
  "kernelspec": {
   "display_name": "Python 3",
   "language": "python",
   "name": "python3"
  },
  "language_info": {
   "codemirror_mode": {
    "name": "ipython",
    "version": 3
   },
   "file_extension": ".py",
   "mimetype": "text/x-python",
   "name": "python",
   "nbconvert_exporter": "python",
   "pygments_lexer": "ipython3",
   "version": "3.7.6"
  },
  "varInspector": {
   "cols": {
    "lenName": 16,
    "lenType": 16,
    "lenVar": 40
   },
   "kernels_config": {
    "python": {
     "delete_cmd_postfix": "",
     "delete_cmd_prefix": "del ",
     "library": "var_list.py",
     "varRefreshCmd": "print(var_dic_list())"
    },
    "r": {
     "delete_cmd_postfix": ") ",
     "delete_cmd_prefix": "rm(",
     "library": "var_list.r",
     "varRefreshCmd": "cat(var_dic_list()) "
    }
   },
   "types_to_exclude": [
    "module",
    "function",
    "builtin_function_or_method",
    "instance",
    "_Feature"
   ],
   "window_display": false
  }
 },
 "nbformat": 4,
 "nbformat_minor": 2
}
